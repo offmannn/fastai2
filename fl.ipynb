{
  "nbformat": 4,
  "nbformat_minor": 0,
  "metadata": {
    "colab": {
      "name": "fl.ipynb",
      "provenance": [],
      "authorship_tag": "ABX9TyMzAQULEo3gVBrPL6l3aTCI"
    },
    "kernelspec": {
      "name": "python3",
      "display_name": "Python 3"
    },
    "accelerator": "GPU"
  },
  "cells": [
    {
      "cell_type": "code",
      "metadata": {
        "id": "Daf2_15HOY0V",
        "colab_type": "code",
        "colab": {}
      },
      "source": [
        " \n",
        "from fastai.vision.all import *\n",
        "from fastai.vision.widgets import *"
      ],
      "execution_count": null,
      "outputs": []
    },
    {
      "cell_type": "code",
      "metadata": {
        "id": "9mPmGCQcOk35",
        "colab_type": "code",
        "colab": {}
      },
      "source": [
        "path=Path()\n",
        "learn_inf=load_learner(path/'export.pkl',cpu=True)\n",
        "btn_upload=widgets.FileUpload()\n",
        "out_pl=widgets.Output()\n",
        "lbl_pred=widgets.Label()\n",
        "btn_run=widgets.Button(description='classify')"
      ],
      "execution_count": null,
      "outputs": []
    },
    {
      "cell_type": "code",
      "metadata": {
        "id": "xOLAYtiQOkKl",
        "colab_type": "code",
        "colab": {}
      },
      "source": [
        " \n",
        "def classify(change):\n",
        "   img=PILImage.create(btn_upload.data[-1])\n",
        "   out_pl.clear_output()\n",
        "   with out_pl: display(img.to_thumb(128,128))\n",
        "   pred,predidx,prob=learn_inf.predict(img)\n",
        "   lbl_pred.value=f'pred {pred},prob {prob[predidx]:.04f}'\n",
        "btn_run.on_click(classify)"
      ],
      "execution_count": null,
      "outputs": []
    },
    {
      "cell_type": "code",
      "metadata": {
        "id": "BCbBPgjFOkXs",
        "colab_type": "code",
        "colab": {}
      },
      "source": [
        " \n",
        "VBox([widgets.Label('select pic'),\n",
        "     btn_upload,btn_run,out_pl,lbl_pred])"
      ],
      "execution_count": null,
      "outputs": []
    },
    {
      "cell_type": "code",
      "metadata": {
        "id": "Ko__VfyNOkiy",
        "colab_type": "code",
        "colab": {}
      },
      "source": [
        ""
      ],
      "execution_count": null,
      "outputs": []
    }
  ]
}